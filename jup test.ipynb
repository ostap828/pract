{
 "cells": [
  {
   "cell_type": "code",
   "execution_count": 12,
   "metadata": {},
   "outputs": [
    {
     "name": "stdout",
     "output_type": "stream",
     "text": [
      "\n",
      "// Пример комментария\n",
      "function greet(name) {\n",
      "  var greeting = \"\\\\u0048\\\\u0065\\\\u006c\\\\u006c\\\\u006f\\\\u002c\\\\u0020\" + name + \"\\\\u0021\";\n",
      "  console.log(greeting);\n",
      "}\n",
      "\n",
      "/* Многострочный\n",
      "комментарий */\n",
      "var userName = \"\\\\u0041\\\\u006c\\\\u0069\\\\u0063\\\\u0065\";\n",
      "greet(userName);\n",
      "\n"
     ]
    }
   ],
   "source": [
    "import re\n",
    "\n",
    "def convert_string_literals_to_unicode(code):\n",
    "    def to_unicode(match):\n",
    "        string = match.group(1)\n",
    "        unicode_string = ''.join(r'\\\\u{:04x}'.format(ord(c)) for c in string)\n",
    "        return f'\"{unicode_string}\"'\n",
    "    return re.sub(r'\"([^\"]*)\"', to_unicode, code)\n",
    "\n",
    "\n",
    "js_code = \"\"\"\n",
    "// Пример комментария\n",
    "function greet(name) {\n",
    "  var greeting = \"Hello, \" + name + \"!\";\n",
    "  console.log(greeting);\n",
    "}\n",
    "\n",
    "/* Многострочный\n",
    "комментарий */\n",
    "var userName = \"Alice\";\n",
    "greet(userName);\n",
    "\"\"\"\n",
    "\n",
    "# Вызываем функцию и передаем JavaScript-код как строку\n",
    "converted_code = convert_string_literals_to_unicode(js_code)\n",
    "print(converted_code)\n"
   ]
  }
 ],
 "metadata": {
  "kernelspec": {
   "display_name": "geryon_test",
   "language": "python",
   "name": "python3"
  },
  "language_info": {
   "codemirror_mode": {
    "name": "ipython",
    "version": 3
   },
   "file_extension": ".py",
   "mimetype": "text/x-python",
   "name": "python",
   "nbconvert_exporter": "python",
   "pygments_lexer": "ipython3",
   "version": "3.11.9"
  },
  "orig_nbformat": 4
 },
 "nbformat": 4,
 "nbformat_minor": 2
}
